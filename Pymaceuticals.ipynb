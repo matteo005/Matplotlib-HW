{
 "cells": [
  {
   "cell_type": "markdown",
   "metadata": {},
   "source": [
    "Summary of study results\n",
    "\n",
    "After completing the data analysis of the Pymaceuticals Inc data i noticed a few things.\n",
    "    \n",
    "    1. The tumor volume average for both Capomulin and Ramicane were both at about 40.\n",
    "    2. Looking at the time point versus tumor volume for a mouse treated with Capomulin we see the decrease\n",
    "        of tumor volume over time. \n",
    "    3. The hevier the mouse in (g), the larger the tumor was.\n"
   ]
  },
  {
   "cell_type": "code",
   "execution_count": 1,
   "metadata": {},
   "outputs": [],
   "source": [
    "# Dependencies and Setup\n",
    "import matplotlib.pyplot as plt\n",
    "import pandas as pd\n",
    "import numpy as np\n",
    "import scipy.stats as st\n",
    "\n",
    "# Study data files\n",
    "mouse_metadata = \"Data/Mouse_metadata.csv\"\n",
    "study_results = \"Data/Study_results.csv\"\n",
    "\n",
    "# Read the mouse data and the study results\n",
    "mouse_metadata = pd.read_csv(mouse_metadata)\n",
    "study_results = pd.read_csv(study_results)\n",
    "\n",
    "# Combine the data into a single dataset\n",
    "combined_df = pd.merge(mouse_metadata, study_results, on=\"Mouse ID\")"
   ]
  },
  {
   "cell_type": "code",
   "execution_count": 2,
   "metadata": {},
   "outputs": [
    {
     "data": {
      "text/html": [
       "<div>\n",
       "<style scoped>\n",
       "    .dataframe tbody tr th:only-of-type {\n",
       "        vertical-align: middle;\n",
       "    }\n",
       "\n",
       "    .dataframe tbody tr th {\n",
       "        vertical-align: top;\n",
       "    }\n",
       "\n",
       "    .dataframe thead th {\n",
       "        text-align: right;\n",
       "    }\n",
       "</style>\n",
       "<table border=\"1\" class=\"dataframe\">\n",
       "  <thead>\n",
       "    <tr style=\"text-align: right;\">\n",
       "      <th></th>\n",
       "      <th>Average</th>\n",
       "      <th>Median</th>\n",
       "      <th>Variance</th>\n",
       "      <th>Standard Deviation</th>\n",
       "      <th>SEM</th>\n",
       "    </tr>\n",
       "    <tr>\n",
       "      <th>Drug Regimen</th>\n",
       "      <th></th>\n",
       "      <th></th>\n",
       "      <th></th>\n",
       "      <th></th>\n",
       "      <th></th>\n",
       "    </tr>\n",
       "  </thead>\n",
       "  <tbody>\n",
       "    <tr>\n",
       "      <td>Capomulin</td>\n",
       "      <td>40.675741</td>\n",
       "      <td>41.557809</td>\n",
       "      <td>24.947764</td>\n",
       "      <td>4.994774</td>\n",
       "      <td>0.329346</td>\n",
       "    </tr>\n",
       "    <tr>\n",
       "      <td>Ceftamin</td>\n",
       "      <td>52.591172</td>\n",
       "      <td>51.776157</td>\n",
       "      <td>39.290177</td>\n",
       "      <td>6.268188</td>\n",
       "      <td>0.469821</td>\n",
       "    </tr>\n",
       "    <tr>\n",
       "      <td>Infubinol</td>\n",
       "      <td>52.884795</td>\n",
       "      <td>51.820584</td>\n",
       "      <td>43.128684</td>\n",
       "      <td>6.567243</td>\n",
       "      <td>0.492236</td>\n",
       "    </tr>\n",
       "    <tr>\n",
       "      <td>Ketapril</td>\n",
       "      <td>55.235638</td>\n",
       "      <td>53.698743</td>\n",
       "      <td>68.553577</td>\n",
       "      <td>8.279709</td>\n",
       "      <td>0.603860</td>\n",
       "    </tr>\n",
       "    <tr>\n",
       "      <td>Naftisol</td>\n",
       "      <td>54.331565</td>\n",
       "      <td>52.509285</td>\n",
       "      <td>66.173479</td>\n",
       "      <td>8.134708</td>\n",
       "      <td>0.596466</td>\n",
       "    </tr>\n",
       "    <tr>\n",
       "      <td>Placebo</td>\n",
       "      <td>54.033581</td>\n",
       "      <td>52.288934</td>\n",
       "      <td>61.168083</td>\n",
       "      <td>7.821003</td>\n",
       "      <td>0.581331</td>\n",
       "    </tr>\n",
       "    <tr>\n",
       "      <td>Propriva</td>\n",
       "      <td>52.322552</td>\n",
       "      <td>50.854632</td>\n",
       "      <td>42.351070</td>\n",
       "      <td>6.507770</td>\n",
       "      <td>0.512884</td>\n",
       "    </tr>\n",
       "    <tr>\n",
       "      <td>Ramicane</td>\n",
       "      <td>40.216745</td>\n",
       "      <td>40.673236</td>\n",
       "      <td>23.486704</td>\n",
       "      <td>4.846308</td>\n",
       "      <td>0.320955</td>\n",
       "    </tr>\n",
       "    <tr>\n",
       "      <td>Stelasyn</td>\n",
       "      <td>54.233149</td>\n",
       "      <td>52.431737</td>\n",
       "      <td>59.450562</td>\n",
       "      <td>7.710419</td>\n",
       "      <td>0.573111</td>\n",
       "    </tr>\n",
       "    <tr>\n",
       "      <td>Zoniferol</td>\n",
       "      <td>53.236507</td>\n",
       "      <td>51.818479</td>\n",
       "      <td>48.533355</td>\n",
       "      <td>6.966589</td>\n",
       "      <td>0.516398</td>\n",
       "    </tr>\n",
       "  </tbody>\n",
       "</table>\n",
       "</div>"
      ],
      "text/plain": [
       "                Average     Median   Variance  Standard Deviation       SEM\n",
       "Drug Regimen                                                               \n",
       "Capomulin     40.675741  41.557809  24.947764            4.994774  0.329346\n",
       "Ceftamin      52.591172  51.776157  39.290177            6.268188  0.469821\n",
       "Infubinol     52.884795  51.820584  43.128684            6.567243  0.492236\n",
       "Ketapril      55.235638  53.698743  68.553577            8.279709  0.603860\n",
       "Naftisol      54.331565  52.509285  66.173479            8.134708  0.596466\n",
       "Placebo       54.033581  52.288934  61.168083            7.821003  0.581331\n",
       "Propriva      52.322552  50.854632  42.351070            6.507770  0.512884\n",
       "Ramicane      40.216745  40.673236  23.486704            4.846308  0.320955\n",
       "Stelasyn      54.233149  52.431737  59.450562            7.710419  0.573111\n",
       "Zoniferol     53.236507  51.818479  48.533355            6.966589  0.516398"
      ]
     },
     "execution_count": 2,
     "metadata": {},
     "output_type": "execute_result"
    }
   ],
   "source": [
    "# Generate a summary statistics table of mean, median, variance, standard deviation, \n",
    "#and SEM of the tumor volume for each regimen\n",
    "\n",
    "average = combined_df.groupby('Drug Regimen').mean()['Tumor Volume (mm3)']\n",
    "median = combined_df.groupby('Drug Regimen').median()['Tumor Volume (mm3)']\n",
    "variance = combined_df.groupby('Drug Regimen').var()['Tumor Volume (mm3)']\n",
    "std = combined_df.groupby('Drug Regimen').std()['Tumor Volume (mm3)']\n",
    "sem = combined_df.groupby('Drug Regimen').sem()['Tumor Volume (mm3)']\n",
    "stats_table = pd.DataFrame({\"Average\":average,\"Median\":median, \"Variance\":variance,\n",
    "                            \"Standard Deviation\":std, \"SEM\":sem})\n",
    "stats_table\n",
    "\n"
   ]
  },
  {
   "cell_type": "code",
   "execution_count": 3,
   "metadata": {
    "scrolled": true
   },
   "outputs": [
    {
     "data": {
      "text/plain": [
       "Text(0, 0.5, 'Number of Data Points')"
      ]
     },
     "execution_count": 3,
     "metadata": {},
     "output_type": "execute_result"
    },
    {
     "data": {
      "image/png": "[encoded data removed]",
      "text/plain": [
       "<Figure size 432x288 with 1 Axes>"
      ]
     },
     "metadata": {
      "needs_background": "light"
     },
     "output_type": "display_data"
    }
   ],
   "source": [
    "# Generate a bar plot showing number of data points for each treatment regimen using pandas\n",
    "count = combined_df['Drug Regimen'].value_counts()\n",
    "axis = count.plot(kind='bar', color= 'blue')\n",
    "axis.set_xlabel('Drug Regimen')\n",
    "axis.set_ylabel('Number of Data Points')"
   ]
  },
  {
   "cell_type": "code",
   "execution_count": 4,
   "metadata": {},
   "outputs": [
    {
     "data": {
      "text/plain": [
       "([0, 1, 2, 3, 4, 5, 6, 7, 8, 9], <a list of 10 Text xticklabel objects>)"
      ]
     },
     "execution_count": 4,
     "metadata": {},
     "output_type": "execute_result"
    },
    {
     "data": {
      "image/png": "[encoded data removed]",
      "text/plain": [
       "<Figure size 432x288 with 1 Axes>"
      ]
     },
     "metadata": {
      "needs_background": "light"
     },
     "output_type": "display_data"
    }
   ],
   "source": [
    "# Generate a bar plot showing number of data points for each treatment regimen using pyplot\n",
    "values = combined_df['Drug Regimen'].value_counts()\n",
    "labels = values.index\n",
    "plt.bar(labels, values, color = 'blue', align=\"center\", width=.50)\n",
    "plt.xlabel('Drug Regimen')\n",
    "plt.ylabel('Number of Data Points')\n",
    "plt.xticks(rotation=90)"
   ]
  },
  {
   "cell_type": "code",
   "execution_count": 5,
   "metadata": {},
   "outputs": [
    {
     "data": {
      "image/png": "[encoded data removed]",
      "text/plain": [
       "<Figure size 432x288 with 1 Axes>"
      ]
     },
     "metadata": {},
     "output_type": "display_data"
    }
   ],
   "source": [
    "# Generate a pie plot showing the distribution of female versus male mice using pandas\n",
    "gender_group = combined_df.groupby('Sex')\n",
    "gender_count = gender_group['Sex'].value_counts()\n",
    "\n",
    "\n",
    "#Generate pie plot using pandas\n",
    "chart = gender_count.plot(kind='pie', startangle=180, autopct='%1.1f%%')\n"
   ]
  },
  {
   "cell_type": "code",
   "execution_count": 6,
   "metadata": {},
   "outputs": [
    {
     "data": {
      "text/plain": [
       "([<matplotlib.patches.Wedge at 0x1a181d0510>,\n",
       "  <matplotlib.patches.Wedge at 0x1a181d0ed0>],\n",
       " [Text(-0.020992503472586185, -1.0997996703027118, 'Female'),\n",
       "  Text(0.02099250347258632, 1.0997996703027118, 'Male')],\n",
       " [Text(-0.011450456439592464, -0.5998907292560246, '49.4%'),\n",
       "  Text(0.011450456439592537, 0.5998907292560246, '50.6%')])"
      ]
     },
     "execution_count": 6,
     "metadata": {},
     "output_type": "execute_result"
    },
    {
     "data": {
      "image/png": "[encoded data removed]",
      "text/plain": [
       "<Figure size 432x288 with 1 Axes>"
      ]
     },
     "metadata": {},
     "output_type": "display_data"
    }
   ],
   "source": [
    "# Generate a pie plot showing the distribution of female versus male mice using pyplot\n",
    "gender_group = combined_df.groupby('Sex')\n",
    "gender_count = gender_group['Sex'].value_counts()\n",
    "\n",
    "\n",
    "colors = [\"tab:orange\", \"tab:blue\"]\n",
    "explode = (0,0)\n",
    "genders = [\"Female\", \"Male\"]\n",
    "\n",
    "#Generate pie plot using \n",
    "plt.pie(gender_count, explode=explode, labels=genders, colors=colors,\n",
    "        autopct=\"%1.1f%%\", shadow=True, startangle=180)\n"
   ]
  },
  {
   "cell_type": "code",
   "execution_count": 7,
   "metadata": {},
   "outputs": [
    {
     "name": "stdout",
     "output_type": "stream",
     "text": [
      "Capomulin Values below 20.70456164999999 and above 51.83201549 could be outliers. IQR if 7.781863460000004\n"
     ]
    }
   ],
   "source": [
    "#Calculate the final tumor volume of each mouse across four of the most promising treatment regimens.\n",
    "#Calculate the IQR and quantitatively determine if there are any potential outliers.\n",
    "\n",
    "#Get the last Timepoint of tumor for Capomulin Regimen\n",
    "Cap_reg = combined_df.loc[combined_df[\"Drug Regimen\"] == \"Capomulin\", :]\n",
    "Cap_max = Cap_reg.groupby('Mouse ID').max()['Timepoint']\n",
    "Cap_volume = pd.DataFrame(Cap_max)\n",
    "Cap_merge = pd.merge(Cap_volume, combined_df, on=('Mouse ID','Timepoint'),how=\"left\")\n",
    "Cap_tv = Cap_merge['Tumor Volume (mm3)']\n",
    "\n",
    "# Calculate Quartiles Lower, Upper and IQR for Capomulin\n",
    "Cap_quartiles = Cap_tv.quantile([.25,.5,.75])\n",
    "Cap_lowerq = Cap_quartiles[0.25]\n",
    "Cap_upperq = Cap_quartiles[0.75]\n",
    "Cap_iqr = Cap_upperq-Cap_lowerq\n",
    "\n",
    "Cap_lower_bound = Cap_lowerq - (1.5*Cap_iqr)\n",
    "Cap_upper_bound = Cap_upperq + (1.5*Cap_iqr)\n",
    "\n",
    "print(f\"Capomulin Values below {Cap_lower_bound} and above {Cap_upper_bound} could be outliers. IQR if {Cap_iqr}\")\n"
   ]
  },
  {
   "cell_type": "code",
   "execution_count": 8,
   "metadata": {},
   "outputs": [
    {
     "name": "stdout",
     "output_type": "stream",
     "text": [
      "Ramicane Values below 17.912664470000003 and above 54.30681135 could be outliers. IQR if 9.098536719999998\n"
     ]
    }
   ],
   "source": [
    "#Get the last Timepoint of tumor for Ramicane Regimen\n",
    "Ram_reg = combined_df.loc[combined_df[\"Drug Regimen\"] == \"Ramicane\", :]\n",
    "Ram_max = Ram_reg.groupby('Mouse ID').max()['Timepoint']\n",
    "Ram_volume = pd.DataFrame(Ram_max)\n",
    "Ram_merge = pd.merge(Ram_volume, combined_df, on=('Mouse ID','Timepoint'),how=\"left\")\n",
    "Ram_tv = Ram_merge['Tumor Volume (mm3)']\n",
    "\n",
    "# Calculate Quartiles Lower, Upper and IQR for Ramicane\n",
    "Ram_quartiles = Ram_tv.quantile([.25,.5,.75])\n",
    "Ram_lowerq = Ram_quartiles[0.25]\n",
    "Ram_upperq = Ram_quartiles[0.75]\n",
    "Ram_iqr = Ram_upperq-Ram_lowerq\n",
    "\n",
    "Ram_lower_bound = Ram_lowerq - (1.5*Ram_iqr)\n",
    "Ram_upper_bound = Ram_upperq + (1.5*Ram_iqr)\n",
    "\n",
    "print(f\"Ramicane Values below {Ram_lower_bound} and above {Ram_upper_bound} could be outliers. IQR if {Ram_iqr}\")"
   ]
  },
  {
   "cell_type": "code",
   "execution_count": 9,
   "metadata": {},
   "outputs": [
    {
     "name": "stdout",
     "output_type": "stream",
     "text": [
      "Infubinol Values below 36.83290494999999 and above 82.74144559000001 could be outliers. IQR if 11.477135160000003\n"
     ]
    }
   ],
   "source": [
    "#Get the last Timepoint of tumor for Infubinol Regimen\n",
    "Inf_reg = combined_df.loc[combined_df[\"Drug Regimen\"] == \"Infubinol\", :]\n",
    "Inf_max = Inf_reg.groupby('Mouse ID').max()['Timepoint']\n",
    "Inf_volume = pd.DataFrame(Inf_max)\n",
    "Inf_merge = pd.merge(Inf_volume, combined_df, on=('Mouse ID','Timepoint'),how=\"left\")\n",
    "Inf_tv = Inf_merge['Tumor Volume (mm3)']\n",
    "\n",
    "# Calculate Quartiles Lower, Upper and IQR for Infubinol\n",
    "Inf_quartiles = Inf_tv.quantile([.25,.5,.75])\n",
    "Inf_lowerq = Inf_quartiles[0.25]\n",
    "Inf_upperq = Inf_quartiles[0.75]\n",
    "Inf_iqr = Inf_upperq-Inf_lowerq\n",
    "\n",
    "Inf_lower_bound = Inf_lowerq - (1.5*Inf_iqr)\n",
    "Inf_upper_bound = Inf_upperq + (1.5*Inf_iqr)\n",
    "\n",
    "print(f\"Infubinol Values below {Inf_lower_bound} and above {Inf_upper_bound} could be outliers. IQR if {Inf_iqr}\")"
   ]
  },
  {
   "cell_type": "code",
   "execution_count": 10,
   "metadata": {},
   "outputs": [
    {
     "name": "stdout",
     "output_type": "stream",
     "text": [
      "Ceftamin Values below 25.355449580000002 and above 87.66645829999999 could be outliers. IQR if 15.577752179999997\n"
     ]
    }
   ],
   "source": [
    "#Get the last Timepoint of tumor for Ceftamin Regimen\n",
    "Cef_reg = combined_df.loc[combined_df[\"Drug Regimen\"] == \"Ceftamin\", :]\n",
    "Cef_max = Cef_reg.groupby('Mouse ID').max()['Timepoint']\n",
    "Cef_volume = pd.DataFrame(Cef_max)\n",
    "Cef_merge = pd.merge(Cef_volume, combined_df, on=('Mouse ID','Timepoint'),how=\"left\")\n",
    "Cef_tv = Cef_merge['Tumor Volume (mm3)']\n",
    "\n",
    "# Calculate Quartiles Lower, Upper and IQR for Ceftamin\n",
    "Cef_quartiles = Cef_tv.quantile([.25,.5,.75])\n",
    "Cef_lowerq = Cef_quartiles[0.25]\n",
    "Cef_upperq = Cef_quartiles[0.75]\n",
    "Cef_iqr = Cef_upperq-Cef_lowerq\n",
    "\n",
    "Cef_lower_bound = Cef_lowerq - (1.5*Cef_iqr)\n",
    "Cef_upper_bound = Cef_upperq + (1.5*Cef_iqr)\n",
    "\n",
    "print(f\"Ceftamin Values below {Cef_lower_bound} and above {Cef_upper_bound} could be outliers. IQR if {Cef_iqr}\")"
   ]
  },
  {
   "cell_type": "code",
   "execution_count": 11,
   "metadata": {},
   "outputs": [
    {
     "data": {
      "image/png": "[encoded data removed]",
      "text/plain": [
       "<Figure size 432x288 with 1 Axes>"
      ]
     },
     "metadata": {
      "needs_background": "light"
     },
     "output_type": "display_data"
    }
   ],
   "source": [
    "#Combine all 4 regimens last Tumor Volume to be able to plot\n",
    "all_regimen = [Cap_tv, Ram_tv, Inf_tv, Cef_tv]\n",
    "\n",
    "fig1, ax1 = plt.subplots()\n",
    "ax1.set_title('Drug Regimen')\n",
    "ax1.set_ylabel('Final Tumor Volume (mm3)')\n",
    "ax1.boxplot(all_regimen, labels=[\"Capomulin\",\"Ramicane\",\"Infubinol\",\"Ceftamin\",])\n",
    "plt.show()"
   ]
  },
  {
   "cell_type": "code",
   "execution_count": 12,
   "metadata": {},
   "outputs": [
    {
     "data": {
      "text/plain": [
       "[<matplotlib.lines.Line2D at 0x1a18374950>]"
      ]
     },
     "execution_count": 12,
     "metadata": {},
     "output_type": "execute_result"
    },
    {
     "data": {
      "image/png": "[encoded data removed]",
      "text/plain": [
       "<Figure size 432x288 with 1 Axes>"
      ]
     },
     "metadata": {
      "needs_background": "light"
     },
     "output_type": "display_data"
    }
   ],
   "source": [
    "# Generate a line plot of time point versus tumor volume for a mouse treated with Capomulin\n",
    "\n",
    "#find the mouse l509 and get data\n",
    "find_l509 = Cap_reg.loc[Cap_reg['Mouse ID'] == 'l509',:]\n",
    "\n",
    "#set x and y axis from mouse l509\n",
    "x_axis = find_l509['Timepoint']\n",
    "y_axis = find_l509['Tumor Volume (mm3)']\n",
    "\n",
    "#set plot points and plot the line\n",
    "plt.title('Mouse l509 Under Capomulin Treatment')\n",
    "plt.xlabel('Timepoint (Days)')\n",
    "plt.ylabel('Tumor Volume (mm3)')\n",
    "plt.plot(x_axis, y_axis, linewidth = 2, markersize = 12)\n"
   ]
  },
  {
   "cell_type": "code",
   "execution_count": 13,
   "metadata": {},
   "outputs": [
    {
     "data": {
      "text/plain": [
       "<matplotlib.collections.PathCollection at 0x1a183bc710>"
      ]
     },
     "execution_count": 13,
     "metadata": {},
     "output_type": "execute_result"
    },
    {
     "data": {
      "image/png": "[encoded data removed]",
      "text/plain": [
       "<Figure size 432x288 with 1 Axes>"
      ]
     },
     "metadata": {
      "needs_background": "light"
     },
     "output_type": "display_data"
    }
   ],
   "source": [
    "# Generate a scatter plot of mouse weight versus average tumor volume for the Capomulin regimen\n",
    "\n",
    "#get the average for x and y axis\n",
    "Cap_avg = Cap_reg.groupby('Mouse ID').mean()\n",
    "x_axis = Cap_avg['Weight (g)']\n",
    "y_axis = Cap_avg['Tumor Volume (mm3)']\n",
    "\n",
    "#Set plot points and plot the scatter\n",
    "plt.title('Weight Vs. Avg Tumor Volume under Capomulin')\n",
    "plt.xlabel('Weight (g)')\n",
    "plt.ylabel('Average Tumor Volume (mm3)')\n",
    "plt.scatter(x_axis,y_axis)\n"
   ]
  },
  {
   "cell_type": "code",
   "execution_count": 27,
   "metadata": {},
   "outputs": [
    {
     "data": {
      "text/plain": [
       "<matplotlib.collections.PathCollection at 0x1a1b7ed9d0>"
      ]
     },
     "execution_count": 27,
     "metadata": {},
     "output_type": "execute_result"
    },
    {
     "data": {
      "image/png": "[encoded data removed]",
      "text/plain": [
       "<Figure size 432x288 with 1 Axes>"
      ]
     },
     "metadata": {
      "needs_background": "light"
     },
     "output_type": "display_data"
    }
   ],
   "source": [
    "# Calculate the correlation coefficient and linear regression model for mouse weight \n",
    "# and average tumor volume for the Capomulin regimen\n",
    "#import linregress module\n",
    "from scipy.stats import linregress\n",
    "\n",
    "#Calculate Slope\n",
    "(slope, intercept, rvalue, pvalue, stderr) = linregress(x_axis, y_axis)\n",
    "regress_values = x_axis * slope + intercept\n",
    "line_eq = \"y = \" + str(round(slope,2)) + \"x + \" + str(round(intercept,2))\n",
    "\n",
    "#Set plot points and plot Scatter \n",
    "plt.scatter(x_axis,y_axis)\n",
    "plt.plot(x_axis,regress_values,\"r-\")\n",
    "plt.annotate(line_eq,(20,10),fontsize=15,color=\"red\")\n",
    "plt.xlabel('Weight (g)')\n",
    "plt.ylabel('Average Tumor Volume (mm3)')\n",
    "plt.scatter(x_axis,y_axis)"
   ]
  },
  {
   "cell_type": "code",
   "execution_count": null,
   "metadata": {},
   "outputs": [],
   "source": []
  },
  {
   "cell_type": "code",
   "execution_count": null,
   "metadata": {},
   "outputs": [],
   "source": []
  }
 ],
 "metadata": {
  "kernelspec": {
   "display_name": "Python 3",
   "language": "python",
   "name": "python3"
  },
  "language_info": {
   "codemirror_mode": {
    "name": "ipython",
    "version": 3
   },
   "file_extension": ".py",
   "mimetype": "text/x-python",
   "name": "python",
   "nbconvert_exporter": "python",
   "pygments_lexer": "ipython3",
   "version": "3.7.4"
  }
 },
 "nbformat": 4,
 "nbformat_minor": 2
}
